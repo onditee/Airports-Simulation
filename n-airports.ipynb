{
 "cells": [
  {
   "cell_type": "code",
   "execution_count": 141,
   "metadata": {},
   "outputs": [
    {
     "data": {
      "text/plain": "<module 'matplotlib.pyplot' from 'c:\\\\users\\\\kukuk\\\\pycharmprojects\\\\pythonproject1\\\\airports\\\\venv\\\\lib\\\\site-packages\\\\matplotlib\\\\pyplot.py'>"
     },
     "execution_count": 141,
     "metadata": {},
     "output_type": "execute_result"
    },
    {
     "data": {
      "text/plain": "<Figure size 432x288 with 1 Axes>",
      "image/png": "[encoded data removed]"
     },
     "metadata": {
      "needs_background": "light"
     },
     "output_type": "display_data"
    }
   ],
   "source": [
    "import random\n",
    "import numpy as np\n",
    "\n",
    "num_city = 100\n",
    "num_air = 3\n",
    "num_center = 5\n",
    "sigma = 0.1\n",
    "cities = set()\n",
    "airportsOrig = []\n",
    "\n",
    "for i in range(num_center):\n",
    "    x = random.random()\n",
    "    y = random.random()\n",
    "    xc = np.random.normal(x, sigma, num_city//num_center)\n",
    "    yc = np.random.normal(y, sigma, num_city//num_center)\n",
    "    cities = cities.union(zip(xc, yc))\n",
    "\n",
    "\n",
    "for i in range(num_air):\n",
    "    x = random.random()\n",
    "    y = random.random()\n",
    "    airportsOrig.append((x,y))\n",
    "\n",
    "import matplotlib.pyplot as plt\n",
    "\n",
    "zip_cities = zip(*cities)\n",
    "plt.scatter(*zip_cities, marker='+',color='b', label='Cities')\n",
    "zip_airs = zip(*airportsOrig)\n",
    "plt.scatter(*zip_airs, marker='*', color='r', s=100, label='Airports')\n",
    "plt.legend()\n",
    "plt"
   ]
  },
  {
   "cell_type": "code",
   "execution_count": 142,
   "metadata": {},
   "outputs": [],
   "source": [
    "import math\n",
    "import random\n",
    "import numpy as np\n",
    "\n",
    "def distance(airport, city):\n",
    "    x = airport[0]\n",
    "    y = airport[1]\n",
    "    xc = city[0]\n",
    "    yc = city[1]\n",
    "    dist = math.sqrt((x - xc)**2 + (y - yc)**2)\n",
    "\n",
    "    return dist\n",
    "\n",
    "\n",
    "def citySetCal(airports, cities):\n",
    "    citySets = []\n",
    "    for i in range (len(airports)):\n",
    "        citySets.append([])\n",
    "    for city in cities:\n",
    "        closestIndex = 0\n",
    "        minDistance = distance(airports[0], city)\n",
    "        for i, airport in enumerate(airports[1:]):\n",
    "            current = distance(airport, city)\n",
    "            if current < minDistance:\n",
    "                closestIndex = i + 1\n",
    "                minDistance = current\n",
    "        citySets[closestIndex].append(city)\n",
    "\n",
    "    return citySets\n",
    "\n",
    "def objectiveFunction(airports ,citySets):\n",
    "    total = 0\n",
    "    for i, airport in enumerate(airports):\n",
    "        x = airport[0]\n",
    "        y = airport[1]\n",
    "        citySet = citySets[i]\n",
    "        for city in citySet:\n",
    "            xC = city[0]\n",
    "            yC = city[1]\n",
    "            total += (x - xC) ** 2 + (y - yC) ** 2\n",
    "\n",
    "    return total\n",
    "\n",
    "\n",
    "\n",
    "def calculateGradient(airports ,citySets):\n",
    "    #[df/dx1,df/y1....]\n",
    "    gradient = []\n",
    "    #helps update the airports list from 1-3\n",
    "    airportsIndex = 0\n",
    "    # will store the gradients\n",
    "    dfdx =0\n",
    "    dfdy =0\n",
    "    #Summation df/dx 2 * (xi - xc)\n",
    "    for citySet in citySets:\n",
    "        airport = airports[airportsIndex]\n",
    "        for city in citySet:\n",
    "            dfdx += 2 * (airport[0]-city[0])\n",
    "            dfdy += 2 * (airport[1]-city[1])\n",
    "        gradient.append(dfdx)\n",
    "        gradient.append(dfdy)\n",
    "        dfdx = 0\n",
    "        dfdy = 0\n",
    "        airportsIndex += 1\n",
    "\n",
    "    return gradient\n",
    "\n",
    "def gradientDecent(airports, cities):\n",
    "    state = []\n",
    "    for pair in airports:\n",
    "        state.append(pair)\n",
    "\n",
    "    objectiveValues=[]\n",
    "\n",
    "    delta = 0.0001\n",
    "    percentChange = 1\n",
    "\n",
    "    citySets = citySetCal(state, cities)\n",
    "\n",
    "    objVal = objectiveFunction(state, citySets)\n",
    "    objectiveValues.append(objVal)\n",
    "\n",
    "    while percentChange > delta:\n",
    "        # Computing gradient\n",
    "        gradientVector = calculateGradient(state, citySets)\n",
    "        alpha = 0.005\n",
    "        # updating and moving current state\n",
    "        for i, pair in enumerate(state):\n",
    "            state[i] = (state[i][0] - alpha * gradientVector[2*i], state[i][1] - alpha * gradientVector[2*i + 1])\n",
    "\n",
    "        # Calculating new city sets\n",
    "        citySets = citySetCal(state, cities)\n",
    "\n",
    "        # Store the objective function\n",
    "        objVal = objectiveFunction(state, citySets)\n",
    "        objectiveValues.append(objVal)\n",
    "        currentValue = objectiveValues[-1]\n",
    "        previousValue = objectiveValues[-2]\n",
    "        percentChange = abs((previousValue-currentValue)/previousValue)\n",
    "\n",
    "    return state,objectiveValues\n",
    "\n",
    "def plot (state,objectiveValues):\n",
    "    plt.scatter(state,objectiveValues)\n",
    "\n",
    "state, objectiveValues = gradientDecent(airportsOrig, cities)"
   ]
  },
  {
   "cell_type": "code",
   "execution_count": 143,
   "outputs": [
    {
     "data": {
      "text/plain": "<module 'matplotlib.pyplot' from 'c:\\\\users\\\\kukuk\\\\pycharmprojects\\\\pythonproject1\\\\airports\\\\venv\\\\lib\\\\site-packages\\\\matplotlib\\\\pyplot.py'>"
     },
     "execution_count": 143,
     "metadata": {},
     "output_type": "execute_result"
    },
    {
     "data": {
      "text/plain": "<Figure size 432x288 with 1 Axes>",
      "image/png": "[encoded data removed]"
     },
     "metadata": {
      "needs_background": "light"
     },
     "output_type": "display_data"
    }
   ],
   "source": [
    "airports = state\n",
    "\n",
    "zip_cities = zip(*cities)\n",
    "plt.scatter(*zip_cities, marker='+',color='b', label='Cities')\n",
    "zip_airs = zip(*airports)\n",
    "plt.scatter(*zip_airs, marker='*', color='r', s=100, label='Airports')\n",
    "plt.legend()\n",
    "plt"
   ],
   "metadata": {
    "collapsed": false,
    "pycharm": {
     "name": "#%%\n"
    }
   }
  },
  {
   "cell_type": "code",
   "execution_count": 144,
   "outputs": [
    {
     "data": {
      "text/plain": "<Figure size 432x288 with 1 Axes>",
      "image/png": "[encoded data removed]"
     },
     "metadata": {
      "needs_background": "light"
     },
     "output_type": "display_data"
    }
   ],
   "source": [
    "plt.scatter(range(len(objectiveValues)), objectiveValues)\n",
    "plt.show()"
   ],
   "metadata": {
    "collapsed": false,
    "pycharm": {
     "name": "#%%\n"
    }
   }
  },
  {
   "cell_type": "code",
   "execution_count": 144,
   "outputs": [],
   "source": [],
   "metadata": {
    "collapsed": false,
    "pycharm": {
     "name": "#%%\n"
    }
   }
  }
 ],
 "metadata": {
  "kernelspec": {
   "display_name": "Python 3",
   "language": "python",
   "name": "python3"
  },
  "language_info": {
   "codemirror_mode": {
    "name": "ipython",
    "version": 3
   },
   "file_extension": ".py",
   "mimetype": "text/x-python",
   "name": "python",
   "nbconvert_exporter": "python",
   "pygments_lexer": "ipython3",
   "version": "3.7.9"
  }
 },
 "nbformat": 4,
 "nbformat_minor": 2
}